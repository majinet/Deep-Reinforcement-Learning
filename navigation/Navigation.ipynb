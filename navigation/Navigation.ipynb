{
 "cells": [
  {
   "cell_type": "markdown",
   "metadata": {},
   "source": [
    "# Navigation\n",
    "\n",
    "---\n",
    "\n",
    "In this notebook, you will learn how to use the Unity ML-Agents environment for the first project of the [Deep Reinforcement Learning Nanodegree](https://www.udacity.com/course/deep-reinforcement-learning-nanodegree--nd893).\n",
    "\n",
    "### 1. Start the Environment\n",
    "\n",
    "We begin by importing some necessary packages.  If the code cell below returns an error, please revisit the project instructions to double-check that you have installed [Unity ML-Agents](https://github.com/Unity-Technologies/ml-agents/blob/master/docs/Installation.md) and [NumPy](http://www.numpy.org/)."
   ]
  },
  {
   "cell_type": "code",
   "execution_count": 1,
   "metadata": {},
   "outputs": [],
   "source": [
    "from unityagents import UnityEnvironment\n",
    "#from mlagents.envs import UnityEnvironment\n",
    "import numpy as np"
   ]
  },
  {
   "cell_type": "markdown",
   "metadata": {},
   "source": [
    "Next, we will start the environment!  **_Before running the code cell below_**, change the `file_name` parameter to match the location of the Unity environment that you downloaded.\n",
    "\n",
    "- **Mac**: `\"path/to/Banana.app\"`\n",
    "- **Windows** (x86): `\"path/to/Banana_Windows_x86/Banana.exe\"`\n",
    "- **Windows** (x86_64): `\"path/to/Banana_Windows_x86_64/Banana.exe\"`\n",
    "- **Linux** (x86): `\"path/to/Banana_Linux/Banana.x86\"`\n",
    "- **Linux** (x86_64): `\"path/to/Banana_Linux/Banana.x86_64\"`\n",
    "- **Linux** (x86, headless): `\"path/to/Banana_Linux_NoVis/Banana.x86\"`\n",
    "- **Linux** (x86_64, headless): `\"path/to/Banana_Linux_NoVis/Banana.x86_64\"`\n",
    "\n",
    "For instance, if you are using a Mac, then you downloaded `Banana.app`.  If this file is in the same folder as the notebook, then the line below should appear as follows:\n",
    "```\n",
    "env = UnityEnvironment(file_name=\"Banana.app\")\n",
    "```"
   ]
  },
  {
   "cell_type": "code",
   "execution_count": 2,
   "metadata": {},
   "outputs": [
    {
     "name": "stderr",
     "output_type": "stream",
     "text": [
      "INFO:unityagents:\n",
      "'Academy' started successfully!\n",
      "Unity Academy name: Academy\n",
      "        Number of Brains: 1\n",
      "        Number of External Brains : 1\n",
      "        Lesson number : 0\n",
      "        Reset Parameters :\n",
      "\t\t\n",
      "Unity brain name: BananaBrain\n",
      "        Number of Visual Observations (per agent): 0\n",
      "        Vector Observation space type: continuous\n",
      "        Vector Observation space size (per agent): 37\n",
      "        Number of stacked Vector Observation: 1\n",
      "        Vector Action space type: discrete\n",
      "        Vector Action space size (per agent): 4\n",
      "        Vector Action descriptions: , , , \n"
     ]
    }
   ],
   "source": [
    "env = UnityEnvironment(file_name=\"Banana_Windows_x86_64/Banana.exe\")\n",
    "#env = UnityEnvironment(file_name=\"BananaCollectors/Unity Environment.exe\")"
   ]
  },
  {
   "cell_type": "markdown",
   "metadata": {},
   "source": [
    "Environments contain **_brains_** which are responsible for deciding the actions of their associated agents. Here we check for the first brain available, and set it as the default brain we will be controlling from Python."
   ]
  },
  {
   "cell_type": "code",
   "execution_count": 3,
   "metadata": {},
   "outputs": [],
   "source": [
    "# get the default brain\n",
    "brain_name = env.brain_names[0]\n",
    "brain = env.brains[brain_name]"
   ]
  },
  {
   "cell_type": "markdown",
   "metadata": {},
   "source": [
    "### 2. Examine the State and Action Spaces\n",
    "\n",
    "The simulation contains a single agent that navigates a large environment.  At each time step, it has four actions at its disposal:\n",
    "- `0` - walk forward \n",
    "- `1` - walk backward\n",
    "- `2` - turn left\n",
    "- `3` - turn right\n",
    "\n",
    "The state space has `37` dimensions and contains the agent's velocity, along with ray-based perception of objects around agent's forward direction.  A reward of `+1` is provided for collecting a yellow banana, and a reward of `-1` is provided for collecting a blue banana. \n",
    "\n",
    "Run the code cell below to print some information about the environment."
   ]
  },
  {
   "cell_type": "code",
   "execution_count": 4,
   "metadata": {},
   "outputs": [
    {
     "name": "stdout",
     "output_type": "stream",
     "text": [
      "Number of agents: 1\n",
      "Number of actions: 4\n",
      "States look like: [1.         0.         0.         0.         0.84408134 0.\n",
      " 0.         1.         0.         0.0748472  0.         1.\n",
      " 0.         0.         0.25755    1.         0.         0.\n",
      " 0.         0.74177343 0.         1.         0.         0.\n",
      " 0.25854847 0.         0.         1.         0.         0.09355672\n",
      " 0.         1.         0.         0.         0.31969345 0.\n",
      " 0.        ]\n",
      "States have length: 37\n"
     ]
    }
   ],
   "source": [
    "# reset the environment\n",
    "env_info = env.reset(train_mode=True)[brain_name]\n",
    "\n",
    "# number of agents in the environment\n",
    "print('Number of agents:', len(env_info.agents))\n",
    "\n",
    "# number of actions\n",
    "action_size = brain.vector_action_space_size\n",
    "print('Number of actions:', action_size)\n",
    "\n",
    "# examine the state space \n",
    "state = env_info.vector_observations[0]\n",
    "print('States look like:', state)\n",
    "state_size = len(state)\n",
    "print('States have length:', state_size)"
   ]
  },
  {
   "cell_type": "markdown",
   "metadata": {},
   "source": [
    "### 3. Take Random Actions in the Environment\n",
    "\n",
    "In the next code cell, you will learn how to use the Python API to control the agent and receive feedback from the environment.\n",
    "\n",
    "Once this cell is executed, you will watch the agent's performance, if it selects an action (uniformly) at random with each time step.  A window should pop up that allows you to observe the agent, as it moves through the environment.  \n",
    "\n",
    "Of course, as part of the project, you'll have to change the code so that the agent is able to use its experience to gradually choose better actions when interacting with the environment!"
   ]
  },
  {
   "cell_type": "code",
   "execution_count": null,
   "metadata": {},
   "outputs": [],
   "source": [
    "env_info = env.reset(train_mode=False)[brain_name] # reset the environment\n",
    "state = env_info.vector_observations[0]            # get the current state\n",
    "score = 0                                          # initialize the score\n",
    "while True:\n",
    "    action = np.random.randint(action_size)        # select an action\n",
    "    env_info = env.step(action)[brain_name]        # send the action to the environment\n",
    "    next_state = env_info.vector_observations[0]   # get the next state\n",
    "    reward = env_info.rewards[0]                   # get the reward\n",
    "    done = env_info.local_done[0]                  # see if episode has finished\n",
    "    score += reward                                # update the score\n",
    "    state = next_state                             # roll over the state to next time step\n",
    "    if done:                                       # exit loop if episode finished\n",
    "        break\n",
    "    \n",
    "print(\"Score: {}\".format(score))"
   ]
  },
  {
   "cell_type": "markdown",
   "metadata": {},
   "source": [
    "When finished, you can close the environment."
   ]
  },
  {
   "cell_type": "code",
   "execution_count": null,
   "metadata": {},
   "outputs": [],
   "source": [
    "env.close()"
   ]
  },
  {
   "cell_type": "code",
   "execution_count": 5,
   "metadata": {},
   "outputs": [
    {
     "name": "stdout",
     "output_type": "stream",
     "text": [
      "Number of agents: 1\n",
      "Number of actions: 4\n",
      "States look like: [0.         1.         0.         0.         0.16895212 0.\n",
      " 1.         0.         0.         0.20073597 1.         0.\n",
      " 0.         0.         0.12865657 0.         1.         0.\n",
      " 0.         0.14938059 1.         0.         0.         0.\n",
      " 0.58185619 0.         1.         0.         0.         0.16089135\n",
      " 0.         1.         0.         0.         0.31775284 0.\n",
      " 0.        ]\n",
      "States have length: 37\n"
     ]
    }
   ],
   "source": [
    "# reset the environment\n",
    "env_info = env.reset(train_mode=True)[brain_name]\n",
    "\n",
    "# number of agents in the environment\n",
    "print('Number of agents:', len(env_info.agents))\n",
    "\n",
    "# number of actions\n",
    "action_size = brain.vector_action_space_size\n",
    "print('Number of actions:', action_size)\n",
    "\n",
    "# examine the state space \n",
    "state = env_info.vector_observations[0]\n",
    "print('States look like:', state)\n",
    "state_size = len(state)\n",
    "print('States have length:', state_size)"
   ]
  },
  {
   "cell_type": "code",
   "execution_count": 5,
   "metadata": {},
   "outputs": [],
   "source": [
    "from dqn_agent import Agent\n",
    "from collections import deque\n",
    "import torch\n",
    "import matplotlib.pyplot as plt\n",
    "%matplotlib inline\n",
    "\n",
    "agent = Agent(state_size=37, action_size=4, seed=0)\n",
    "\n"
   ]
  },
  {
   "cell_type": "code",
   "execution_count": 7,
   "metadata": {
    "scrolled": true
   },
   "outputs": [
    {
     "name": "stdout",
     "output_type": "stream",
     "text": [
      "Episode 100\tAverage Score: 0.73\n",
      "Episode 200\tAverage Score: 3.55\n",
      "Episode 300\tAverage Score: 6.33\n",
      "Episode 400\tAverage Score: 9.58\n",
      "Episode 500\tAverage Score: 11.65\n",
      "Episode 600\tAverage Score: 12.56\n",
      "Episode 620\tAverage Score: 13.01\n",
      "Environment solved in 520 episodes!\tAverage Score: 13.01\n",
      "Episode 623\tAverage Score: 13.09\n",
      "Environment solved in 523 episodes!\tAverage Score: 13.09\n",
      "Episode 625\tAverage Score: 13.10\n",
      "Environment solved in 525 episodes!\tAverage Score: 13.10\n",
      "Episode 626\tAverage Score: 13.11\n",
      "Environment solved in 526 episodes!\tAverage Score: 13.11\n",
      "Episode 633\tAverage Score: 13.13\n",
      "Environment solved in 533 episodes!\tAverage Score: 13.13\n",
      "Episode 656\tAverage Score: 13.20\n",
      "Environment solved in 556 episodes!\tAverage Score: 13.20\n",
      "Episode 657\tAverage Score: 13.21\n",
      "Environment solved in 557 episodes!\tAverage Score: 13.21\n",
      "Episode 658\tAverage Score: 13.28\n",
      "Environment solved in 558 episodes!\tAverage Score: 13.28\n",
      "Episode 700\tAverage Score: 12.92\n",
      "Episode 800\tAverage Score: 12.47\n",
      "Episode 836\tAverage Score: 13.32\n",
      "Environment solved in 736 episodes!\tAverage Score: 13.32\n",
      "Episode 839\tAverage Score: 13.38\n",
      "Environment solved in 739 episodes!\tAverage Score: 13.38\n",
      "Episode 842\tAverage Score: 13.45\n",
      "Environment solved in 742 episodes!\tAverage Score: 13.45\n",
      "Episode 844\tAverage Score: 13.50\n",
      "Environment solved in 744 episodes!\tAverage Score: 13.50\n",
      "Episode 845\tAverage Score: 13.55\n",
      "Environment solved in 745 episodes!\tAverage Score: 13.55\n",
      "Episode 899\tAverage Score: 13.57\n",
      "Environment solved in 799 episodes!\tAverage Score: 13.57\n",
      "Episode 900\tAverage Score: 13.68\n",
      "\n",
      "Environment solved in 800 episodes!\tAverage Score: 13.68\n",
      "Episode 901\tAverage Score: 13.72\n",
      "Environment solved in 801 episodes!\tAverage Score: 13.72\n",
      "Episode 964\tAverage Score: 13.75\n",
      "Environment solved in 864 episodes!\tAverage Score: 13.75\n",
      "Episode 965\tAverage Score: 13.83\n",
      "Environment solved in 865 episodes!\tAverage Score: 13.83\n",
      "Episode 970\tAverage Score: 13.85\n",
      "Environment solved in 870 episodes!\tAverage Score: 13.85\n",
      "Episode 971\tAverage Score: 13.91\n",
      "Environment solved in 871 episodes!\tAverage Score: 13.91\n",
      "Episode 972\tAverage Score: 13.96\n",
      "Environment solved in 872 episodes!\tAverage Score: 13.96\n",
      "Episode 978\tAverage Score: 14.00\n",
      "Environment solved in 878 episodes!\tAverage Score: 14.00\n",
      "Episode 979\tAverage Score: 14.06\n",
      "Environment solved in 879 episodes!\tAverage Score: 14.06\n",
      "Episode 981\tAverage Score: 14.07\n",
      "Environment solved in 881 episodes!\tAverage Score: 14.07\n",
      "Episode 982\tAverage Score: 14.13\n",
      "Environment solved in 882 episodes!\tAverage Score: 14.13\n",
      "Episode 983\tAverage Score: 14.19\n",
      "Environment solved in 883 episodes!\tAverage Score: 14.19\n",
      "Episode 984\tAverage Score: 14.23\n",
      "Environment solved in 884 episodes!\tAverage Score: 14.23\n",
      "Episode 1000\tAverage Score: 14.13\n",
      "Episode 1012\tAverage Score: 14.25\n",
      "Environment solved in 912 episodes!\tAverage Score: 14.25\n",
      "Episode 1015\tAverage Score: 14.32\n",
      "Environment solved in 915 episodes!\tAverage Score: 14.32\n",
      "Episode 1019\tAverage Score: 14.34\n",
      "Environment solved in 919 episodes!\tAverage Score: 14.34\n",
      "Episode 1021\tAverage Score: 14.38\n",
      "Environment solved in 921 episodes!\tAverage Score: 14.38\n",
      "Episode 1024\tAverage Score: 14.40\n",
      "Environment solved in 924 episodes!\tAverage Score: 14.40\n",
      "Episode 1025\tAverage Score: 14.42\n",
      "Environment solved in 925 episodes!\tAverage Score: 14.42\n",
      "Episode 1051\tAverage Score: 14.47\n",
      "Environment solved in 951 episodes!\tAverage Score: 14.47\n",
      "Episode 1052\tAverage Score: 14.52\n",
      "Environment solved in 952 episodes!\tAverage Score: 14.52\n",
      "Episode 1053\tAverage Score: 14.58\n",
      "Environment solved in 953 episodes!\tAverage Score: 14.58\n",
      "Episode 1054\tAverage Score: 14.59\n",
      "Environment solved in 954 episodes!\tAverage Score: 14.59\n",
      "Episode 1055\tAverage Score: 14.68\n",
      "Environment solved in 955 episodes!\tAverage Score: 14.68\n",
      "Episode 1056\tAverage Score: 14.74\n",
      "Environment solved in 956 episodes!\tAverage Score: 14.74\n",
      "Episode 1100\tAverage Score: 14.47\n",
      "Episode 1177\tAverage Score: 14.80\n",
      "Environment solved in 1077 episodes!\tAverage Score: 14.80\n",
      "Episode 1181\tAverage Score: 14.83\n",
      "Environment solved in 1081 episodes!\tAverage Score: 14.83\n",
      "Episode 1182\tAverage Score: 14.87\n",
      "Environment solved in 1082 episodes!\tAverage Score: 14.87\n",
      "Episode 1183\tAverage Score: 14.91\n",
      "Environment solved in 1083 episodes!\tAverage Score: 14.91\n",
      "Episode 1200\tAverage Score: 14.58\n",
      "Episode 1226\tAverage Score: 14.93\n",
      "Environment solved in 1126 episodes!\tAverage Score: 14.93\n",
      "Episode 1227\tAverage Score: 14.98\n",
      "Environment solved in 1127 episodes!\tAverage Score: 14.98\n",
      "Episode 1229\tAverage Score: 15.00\n",
      "Environment solved in 1129 episodes!\tAverage Score: 15.00\n",
      "Episode 1230\tAverage Score: 15.03\n",
      "Environment solved in 1130 episodes!\tAverage Score: 15.03\n",
      "Episode 1231\tAverage Score: 15.06\n",
      "Environment solved in 1131 episodes!\tAverage Score: 15.06\n",
      "Episode 1232\tAverage Score: 15.08\n",
      "Environment solved in 1132 episodes!\tAverage Score: 15.08\n",
      "Episode 1235\tAverage Score: 15.10\n",
      "Environment solved in 1135 episodes!\tAverage Score: 15.10\n",
      "Episode 1300\tAverage Score: 14.76\n",
      "Episode 1306\tAverage Score: 15.13\n",
      "Environment solved in 1206 episodes!\tAverage Score: 15.13\n",
      "Episode 1308\tAverage Score: 15.20\n",
      "Environment solved in 1208 episodes!\tAverage Score: 15.20\n",
      "Episode 1311\tAverage Score: 15.21\n",
      "Environment solved in 1211 episodes!\tAverage Score: 15.21\n",
      "Episode 1312\tAverage Score: 15.29\n",
      "Environment solved in 1212 episodes!\tAverage Score: 15.29\n",
      "Episode 1400\tAverage Score: 15.01\n",
      "Episode 1500\tAverage Score: 14.88\n",
      "Episode 1600\tAverage Score: 15.25\n",
      "Episode 1601\tAverage Score: 15.34\n",
      "Environment solved in 1501 episodes!\tAverage Score: 15.34\n",
      "Episode 1603\tAverage Score: 15.35\n",
      "Environment solved in 1503 episodes!\tAverage Score: 15.35\n",
      "Episode 1604\tAverage Score: 15.45\n",
      "Environment solved in 1504 episodes!\tAverage Score: 15.45\n",
      "Episode 1606\tAverage Score: 15.53\n",
      "Environment solved in 1506 episodes!\tAverage Score: 15.53\n",
      "Episode 1607\tAverage Score: 15.55\n",
      "Environment solved in 1507 episodes!\tAverage Score: 15.55\n",
      "Episode 1608\tAverage Score: 15.60\n",
      "Environment solved in 1508 episodes!\tAverage Score: 15.60\n",
      "Episode 1615\tAverage Score: 15.62\n",
      "Environment solved in 1515 episodes!\tAverage Score: 15.62\n",
      "Episode 1616\tAverage Score: 15.66\n",
      "Environment solved in 1516 episodes!\tAverage Score: 15.66\n",
      "Episode 1617\tAverage Score: 15.81\n",
      "Environment solved in 1517 episodes!\tAverage Score: 15.81\n",
      "Episode 1621\tAverage Score: 15.85\n",
      "Environment solved in 1521 episodes!\tAverage Score: 15.85\n",
      "Episode 1663\tAverage Score: 15.91\n",
      "Environment solved in 1563 episodes!\tAverage Score: 15.91\n",
      "Episode 1664\tAverage Score: 15.97\n",
      "Environment solved in 1564 episodes!\tAverage Score: 15.97\n",
      "Episode 1665\tAverage Score: 16.00\n",
      "Environment solved in 1565 episodes!\tAverage Score: 16.00\n",
      "Episode 1666\tAverage Score: 16.02\n",
      "Environment solved in 1566 episodes!\tAverage Score: 16.02\n",
      "Episode 1667\tAverage Score: 16.07\n",
      "Environment solved in 1567 episodes!\tAverage Score: 16.07\n",
      "Episode 1668\tAverage Score: 16.08\n",
      "Environment solved in 1568 episodes!\tAverage Score: 16.08\n",
      "Episode 1673\tAverage Score: 16.13\n",
      "Environment solved in 1573 episodes!\tAverage Score: 16.13\n",
      "Episode 1674\tAverage Score: 16.18\n",
      "Environment solved in 1574 episodes!\tAverage Score: 16.18\n",
      "Episode 1676\tAverage Score: 16.22\n",
      "Environment solved in 1576 episodes!\tAverage Score: 16.22\n",
      "Episode 1700\tAverage Score: 15.66\n",
      "Episode 1800\tAverage Score: 15.38\n",
      "Episode 1900\tAverage Score: 13.96\n",
      "Episode 2000\tAverage Score: 14.84\n",
      "Episode 2001\tAverage Score: 14.90"
     ]
    },
    {
     "data": {
      "image/png": "[encoded data removed]",
      "text/plain": [
       "<Figure size 432x288 with 1 Axes>"
      ]
     },
     "metadata": {
      "needs_background": "light"
     },
     "output_type": "display_data"
    }
   ],
   "source": [
    "def dqn(n_episodes=2001, max_t=1000, eps_start=1.0, eps_end=0.01, eps_decay=0.995):\n",
    "    \"\"\"Deep Q-Learning.\n",
    "    \n",
    "    Params\n",
    "    ======\n",
    "        n_episodes (int): maximum number of training episodes\n",
    "        max_t (int): maximum number of timesteps per episode\n",
    "        eps_start (float): starting value of epsilon, for epsilon-greedy action selection\n",
    "        eps_end (float): minimum value of epsilon\n",
    "        eps_decay (float): multiplicative factor (per episode) for decreasing epsilon\n",
    "    \"\"\"\n",
    "    scores = []                        # list containing scores from each episode\n",
    "    scores_window = deque(maxlen=100)  # last 100 scores\n",
    "    max_scores = 0\n",
    "    env_info = env.reset(train_mode=True)[brain_name]\n",
    "    \n",
    "    eps = eps_start                    # initialize epsilon\n",
    "    for i_episode in range(1, n_episodes+1):\n",
    "        env_info = env.reset(train_mode=True)[brain_name]\n",
    "        state = env_info.vector_observations[0]\n",
    "        \n",
    "        score = 0\n",
    "        for t in range(max_t):\n",
    "            action = agent.act(state, eps)\n",
    "            action = action.astype(int)\n",
    "            env_info = env.step(action)[brain_name]\n",
    "            next_state = env_info.vector_observations[0]   # get the next state\n",
    "            reward = env_info.rewards[0]                   # get the reward\n",
    "            done = env_info.local_done[0]\n",
    "            agent.step(state, action, reward, next_state, done)\n",
    "            state = next_state\n",
    "            score += reward\n",
    "            if done:\n",
    "                break \n",
    "        scores_window.append(score)       # save most recent score\n",
    "        scores.append(score)              # save most recent score\n",
    "        eps = max(eps_end, eps_decay*eps) # decrease epsilon\n",
    "        print('\\rEpisode {}\\tAverage Score: {:.2f}'.format(i_episode, np.mean(scores_window)), end=\"\")\n",
    "        if i_episode % 100 == 0:\n",
    "            print('\\rEpisode {}\\tAverage Score: {:.2f}'.format(i_episode, np.mean(scores_window)))\n",
    "        if np.mean(scores_window) >= 13.0:\n",
    "            if np.mean(scores_window) > max_scores:\n",
    "                max_scores = np.mean(scores_window)\n",
    "                print('\\nEnvironment solved in {:d} episodes!\\tAverage Score: {:.2f}'.format(i_episode-100, np.mean(scores_window)))\n",
    "                torch.save(agent.qnetwork_local.state_dict(), 'checkpoint.pth')\n",
    "                #break\n",
    "    return scores\n",
    "\n",
    "scores = dqn()\n",
    "\n",
    "# plot the scores\n",
    "fig = plt.figure()\n",
    "ax = fig.add_subplot(111)\n",
    "plt.plot(np.arange(len(scores)), scores)\n",
    "plt.ylabel('Score')\n",
    "plt.xlabel('Episode #')\n",
    "plt.show()"
   ]
  },
  {
   "cell_type": "code",
   "execution_count": 12,
   "metadata": {},
   "outputs": [
    {
     "name": "stdout",
     "output_type": "stream",
     "text": [
      "Score: 18.0\n"
     ]
    }
   ],
   "source": [
    "\n",
    "# load the weights from file\n",
    "agent.qnetwork_local.load_state_dict(torch.load('checkpoint.pth'))\n",
    "\n",
    "env_info = env.reset(train_mode=False)[brain_name] # reset the environment\n",
    "state = env_info.vector_observations[0]            # get the current state\n",
    "score = 0                                          # initialize the score\n",
    "while True:\n",
    "    action = agent.act(state)\n",
    "    action = action.astype(int)\n",
    "    env_info = env.step(action)[brain_name]        # send the action to the environment\n",
    "    next_state = env_info.vector_observations[0]   # get the next state\n",
    "    reward = env_info.rewards[0]                   # get the reward\n",
    "    done = env_info.local_done[0]                  # see if episode has finished\n",
    "    score += reward                                # update the score\n",
    "    state = next_state                             # roll over the state to next time step\n",
    "    if done:                                       # exit loop if episode finished\n",
    "        break\n",
    "    \n",
    "print(\"Score: {}\".format(score))\n",
    "\n",
    "#env.close()"
   ]
  },
  {
   "cell_type": "markdown",
   "metadata": {},
   "source": [
    "### 4. It's Your Turn!\n",
    "\n",
    "Now it's your turn to train your own agent to solve the environment!  When training the environment, set `train_mode=True`, so that the line for resetting the environment looks like the following:\n",
    "```python\n",
    "env_info = env.reset(train_mode=True)[brain_name]\n",
    "```"
   ]
  },
  {
   "cell_type": "code",
   "execution_count": null,
   "metadata": {},
   "outputs": [],
   "source": []
  }
 ],
 "metadata": {
  "kernelspec": {
   "display_name": "Python 3",
   "language": "python",
   "name": "python3"
  },
  "language_info": {
   "codemirror_mode": {
    "name": "ipython",
    "version": 3
   },
   "file_extension": ".py",
   "mimetype": "text/x-python",
   "name": "python",
   "nbconvert_exporter": "python",
   "pygments_lexer": "ipython3",
   "version": "3.6.6"
  }
 },
 "nbformat": 4,
 "nbformat_minor": 2
}
